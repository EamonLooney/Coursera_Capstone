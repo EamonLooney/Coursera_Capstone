{
    "cells": [
        {
            "cell_type": "markdown",
            "metadata": {
                "collapsed": true
            },
            "source": "# Eamon Looney - Coursera Capstone Project Workbook"
        },
        {
            "cell_type": "markdown",
            "metadata": {},
            "source": "This work book is for Eamon Looney's Capstone project for the IBM Datascience course on Coursera."
        },
        {
            "cell_type": "markdown",
            "metadata": {},
            "source": "# 1. A description of the problem and a discussion of the background. (15 marks)"
        },
        {
            "cell_type": "markdown",
            "metadata": {},
            "source": "I am interest in knowing if the amount of craft beer stores in and particular UK postcode is determined by either population or income. My hypothosis is that the number of craft beer stores will correlate with income. If my hypothesis is correct that this would open up opportunities for other store with similar levels of services like artisan coffee stops, this will not form part of this analysis."
        },
        {
            "cell_type": "markdown",
            "metadata": {},
            "source": "# 2. A description of the data and how it will be used to solve the problem. (15 marks)"
        },
        {
            "cell_type": "markdown",
            "metadata": {},
            "source": "The data I will have to be used will have to be pulled from a few sources. I will first and foremost use the the Foursquare API to extract and cluster the number of Craft Beer stores by UK postcodes. This will then be joined with external data about populations by postcodes as well as average incomes by postcodes. \n\nHaving this data will then allow me to run various models, learn't in the course, to determine if there are any statistical revelance between the factors determined. The model that will be of the most interest will be multiple linear regression or polynominal regressions. This will be explored in a lot more detail when the data has been collected."
        },
        {
            "cell_type": "code",
            "execution_count": 3,
            "metadata": {},
            "outputs": [
                {
                    "name": "stdout",
                    "output_type": "stream",
                    "text": "Hello Capstone Project Course!\n"
                }
            ],
            "source": "import pandas as pd\nimport numpy as np\nprint (\"Hello Capstone Project Course!\")"
        }
    ],
    "metadata": {
        "kernelspec": {
            "display_name": "Python 3.6",
            "language": "python",
            "name": "python3"
        },
        "language_info": {
            "codemirror_mode": {
                "name": "ipython",
                "version": 3
            },
            "file_extension": ".py",
            "mimetype": "text/x-python",
            "name": "python",
            "nbconvert_exporter": "python",
            "pygments_lexer": "ipython3",
            "version": "3.6.8"
        }
    },
    "nbformat": 4,
    "nbformat_minor": 1
}